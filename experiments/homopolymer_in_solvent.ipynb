{
 "cells": [
  {
   "cell_type": "markdown",
   "metadata": {},
   "source": [
    "# DIMOS: Homopolymer Example\n",
    "\n",
    "The following notebook demonstrates how a simple simulation of a homopolymer can be set up.\n",
    "We exemplify this for a single chain in vacuum and a chain embedded in a Lennard-Jones fluid.\n",
    "\n",
    "This is example code to showcase the modularity of DIMOS, and has not been thoroughly tested."
   ]
  },
  {
   "cell_type": "code",
   "execution_count": 1,
   "metadata": {},
   "outputs": [],
   "source": [
    "import dimos\n",
    "import torch\n",
    "import math"
   ]
  },
  {
   "cell_type": "markdown",
   "metadata": {},
   "source": [
    "Specify the system and simulation parameters"
   ]
  },
  {
   "cell_type": "code",
   "execution_count": 2,
   "metadata": {},
   "outputs": [],
   "source": [
    "num_monomers = 50\n",
    "periodic = True\n",
    "use_neighborlist = True\n",
    "explicit_solvent = True\n",
    "density = 0.5\n",
    "simulation_temperature = 0.5\n",
    "\n",
    "# These are the bonded parameters\n",
    "r_0 = 0.7\n",
    "K=2\n"
   ]
  },
  {
   "cell_type": "markdown",
   "metadata": {},
   "source": [
    "We first set up the minimal system by heuristically determining the simulation box size and setting the masses to ones and charges to zero."
   ]
  },
  {
   "cell_type": "code",
   "execution_count": 3,
   "metadata": {},
   "outputs": [],
   "source": [
    "linear_size_box = 5.0*num_monomers**(3.0/5.0)\n",
    "\n",
    "if explicit_solvent:\n",
    "    num_solvent = math.ceil(linear_size_box**3*density*0.1)\n",
    "else:\n",
    "    num_solvent = 0\n",
    "\n",
    "system = dimos.MinimalSystem(\"unitless\")\n",
    "system.num_atoms = num_monomers + num_solvent\n",
    "\n",
    "system.masses = torch.ones(system.num_atoms)\n",
    "system.charges = torch.zeros(system.num_atoms)\n",
    "system.box = torch.tensor([linear_size_box,linear_size_box,linear_size_box])\n",
    "system.periodic = periodic\n",
    "system.use_neighborlist = use_neighborlist"
   ]
  },
  {
   "cell_type": "code",
   "execution_count": 4,
   "metadata": {},
   "outputs": [],
   "source": [
    "bond_list = []\n",
    "bond_parameters = []\n",
    "for i in range(num_monomers-1):\n",
    "    bond_list.append([i,i+1])\n",
    "    bond_parameters.append([K,r_0])\n",
    "\n",
    "positions = torch.zeros((system.num_atoms, 3))\n",
    "\n",
    "#initialize by (pseudo) random walk\n",
    "positions[0, :] = 0\n",
    "for monomer in range(1, num_monomers):\n",
    "    new_pos = positions[monomer-1, :] + torch.rand(1,3) * 2 * r_0 \n",
    "    positions[monomer, :] = new_pos \n",
    "\n",
    "for solvent in range(num_solvent):\n",
    "    positions[num_monomers + solvent] = torch.rand((1,3))*linear_size_box"
   ]
  },
  {
   "cell_type": "markdown",
   "metadata": {},
   "source": [
    "We now set the bond parameters between bonded atoms and note them to be excluded from the non-bonded interactions."
   ]
  },
  {
   "cell_type": "code",
   "execution_count": 5,
   "metadata": {},
   "outputs": [],
   "source": [
    "bond_list = torch.tensor(bond_list).T\n",
    "bond_parameters = torch.tensor(bond_parameters)\n",
    "\n",
    "system.bonded_force_components.append(dimos.HarmonicBond(bond_list, bond_parameters, periodic, system.box))\n",
    "system.all_exclusions = bond_list"
   ]
  },
  {
   "cell_type": "markdown",
   "metadata": {},
   "source": [
    "Next, we define the nonbonded parameters; here we make a distinction of whether we need to restrict the interactions more specifically than over the system.all_exclusions above. This is the case if one, such as in our case with explicit solvent, wants to have different cutoffs for different contributions."
   ]
  },
  {
   "cell_type": "code",
   "execution_count": 6,
   "metadata": {},
   "outputs": [],
   "source": [
    "sigmas = torch.ones(system.num_atoms)*r_0/2**(1.0/6.0)\n",
    "epsilons = torch.ones(system.num_atoms)\n",
    "\n",
    "system.cutoff = 2.5*sigmas[0]\n",
    "\n",
    "if explicit_solvent:\n",
    "    atoms = torch.arange(sigmas.numel())\n",
    "    apply_to_pairs = torch.cartesian_prod(atoms, atoms)\n",
    "\n",
    "    nonbonded_energy = dimos.energy.NonbondedLennardJonesCG(system.num_atoms, sigmas, epsilons, system.cutoff, switch_distance=None, periodic=system.periodic, box=system.box, applies_to=apply_to_pairs)\n",
    "else:\n",
    "    nonbonded_energy = dimos.energy.NonbondedLennardJonesCG(system.num_atoms, sigmas, epsilons, system.cutoff, switch_distance=None, periodic=system.periodic, box=system.box)\n",
    "system.nonbonded_force_components.append(nonbonded_energy)\n",
    "\n",
    "if explicit_solvent:\n",
    "    solvent_atoms = torch.arange(num_monomers, num_solvent)\n",
    "    solvent_monomer_pairs = torch.cartesian_prod(atoms, solvent_atoms)\n",
    "    monomer_monomer_pairs = torch.cartesian_prod(solvent_atoms, solvent_atoms)\n",
    "\n",
    "    resulting_pairs = torch.cat((solvent_monomer_pairs, monomer_monomer_pairs))\n",
    "\n",
    "    cutoff = 2**(1.0/6.0)*sigmas[0]\n",
    "    solvent_nonbonded_energy = dimos.energy.NonbondedLennardJonesCG(system.num_atoms, sigmas, epsilons, cutoff, switch_distance=None, periodic=system.periodic, box=system.box, applies_to=resulting_pairs)\n",
    "system.nonbonded_force_components.append(solvent_nonbonded_energy)"
   ]
  },
  {
   "cell_type": "markdown",
   "metadata": {},
   "source": [
    "We are nearly done... Now we set up the integrator, and initialize the simulation object."
   ]
  },
  {
   "cell_type": "code",
   "execution_count": 7,
   "metadata": {},
   "outputs": [],
   "source": [
    "tau_0 = (system.masses[0]*sigmas[0]**2/epsilons[0])**0.5\n",
    "\n",
    "integrator = dimos.AndersenDynamics(0.005*tau_0, simulation_temperature, 0.1, system)\n",
    "#VelocityVerlet(0.005*tau_0, system)\n",
    "simulation = dimos.MDSimulation(system, integrator, positions, temperature=simulation_temperature)"
   ]
  },
  {
   "cell_type": "markdown",
   "metadata": {},
   "source": [
    "And run the simulation by writing out the positions and printing the energy contributions of the atoms to a file every 100 MD steps."
   ]
  },
  {
   "cell_type": "code",
   "execution_count": 8,
   "metadata": {},
   "outputs": [
    {
     "name": "stdout",
     "output_type": "stream",
     "text": [
      "tensor(51.9600, grad_fn=<SumBackward0>) tensor(1.0543e+10, grad_fn=<AddBackward0>) tensor(1.0543e+10, grad_fn=<AddBackward0>)\n",
      "tensor(2845.6267, grad_fn=<SumBackward0>) tensor(-550.0425, grad_fn=<AddBackward0>) tensor(-81.1047, grad_fn=<AddBackward0>)\n",
      "tensor(2669.6650, grad_fn=<SumBackward0>) tensor(-653.5353, grad_fn=<AddBackward0>) tensor(-99.4335, grad_fn=<AddBackward0>)\n",
      "tensor(6798.8613, grad_fn=<SumBackward0>) tensor(28460.8652, grad_fn=<AddBackward0>) tensor(29051.3965, grad_fn=<AddBackward0>)\n",
      "tensor(7736.3047, grad_fn=<SumBackward0>) tensor(6462795.5000, grad_fn=<AddBackward0>) tensor(6463392.5000, grad_fn=<AddBackward0>)\n",
      "tensor(5885.4551, grad_fn=<SumBackward0>) tensor(-666.3966, grad_fn=<AddBackward0>) tensor(-89.9656, grad_fn=<AddBackward0>)\n",
      "tensor(5586.4653, grad_fn=<SumBackward0>) tensor(-441.5450, grad_fn=<AddBackward0>) tensor(129.4318, grad_fn=<AddBackward0>)\n",
      "tensor(7448.5063, grad_fn=<SumBackward0>) tensor(-625.1521, grad_fn=<AddBackward0>) tensor(-37.4009, grad_fn=<AddBackward0>)\n",
      "tensor(8507.6533, grad_fn=<SumBackward0>) tensor(-595.6592, grad_fn=<AddBackward0>) tensor(-53.6894, grad_fn=<AddBackward0>)\n",
      "tensor(6827.6362, grad_fn=<SumBackward0>) tensor(1236890.6250, grad_fn=<AddBackward0>) tensor(1237402.5000, grad_fn=<AddBackward0>)\n",
      "tensor(5917.2944, grad_fn=<SumBackward0>) tensor(612.5656, grad_fn=<AddBackward0>) tensor(1120.8269, grad_fn=<AddBackward0>)\n",
      "tensor(7859.5239, grad_fn=<SumBackward0>) tensor(-577.7101, grad_fn=<AddBackward0>) tensor(-75.8911, grad_fn=<AddBackward0>)\n",
      "tensor(9775.6299, grad_fn=<SumBackward0>) tensor(-532.2721, grad_fn=<AddBackward0>) tensor(-83.8782, grad_fn=<AddBackward0>)\n",
      "tensor(6198.3872, grad_fn=<SumBackward0>) tensor(-463.6159, grad_fn=<AddBackward0>) tensor(-82.4853, grad_fn=<AddBackward0>)\n",
      "tensor(4064.6162, grad_fn=<SumBackward0>) tensor(-371.3277, grad_fn=<AddBackward0>) tensor(-55.4663, grad_fn=<AddBackward0>)\n",
      "tensor(7064.4277, grad_fn=<SumBackward0>) tensor(-316.0934, grad_fn=<AddBackward0>) tensor(-57.0543, grad_fn=<AddBackward0>)\n",
      "tensor(8193.7930, grad_fn=<SumBackward0>) tensor(-289.6646, grad_fn=<AddBackward0>) tensor(-54.6756, grad_fn=<AddBackward0>)\n",
      "tensor(6082.3193, grad_fn=<SumBackward0>) tensor(-270.1645, grad_fn=<AddBackward0>) tensor(-41.6619, grad_fn=<AddBackward0>)\n",
      "tensor(8555.2402, grad_fn=<SumBackward0>) tensor(-261.2831, grad_fn=<AddBackward0>) tensor(-54.1201, grad_fn=<AddBackward0>)\n",
      "tensor(9355.9199, grad_fn=<SumBackward0>) tensor(-248.0260, grad_fn=<AddBackward0>) tensor(-40.4852, grad_fn=<AddBackward0>)\n",
      "tensor(4677.3955, grad_fn=<SumBackward0>) tensor(-238.2496, grad_fn=<AddBackward0>) tensor(-45.4474, grad_fn=<AddBackward0>)\n",
      "tensor(7342.0557, grad_fn=<SumBackward0>) tensor(-222.4244, grad_fn=<AddBackward0>) tensor(-43.0491, grad_fn=<AddBackward0>)\n",
      "tensor(8727.5049, grad_fn=<SumBackward0>) tensor(-222.5777, grad_fn=<AddBackward0>) tensor(-48.7307, grad_fn=<AddBackward0>)\n",
      "tensor(4484.5322, grad_fn=<SumBackward0>) tensor(-214.0828, grad_fn=<AddBackward0>) tensor(-50.9348, grad_fn=<AddBackward0>)\n",
      "tensor(4712.6421, grad_fn=<SumBackward0>) tensor(-221.5224, grad_fn=<AddBackward0>) tensor(-44.8128, grad_fn=<AddBackward0>)\n",
      "tensor(11417.7158, grad_fn=<SumBackward0>) tensor(-208.6676, grad_fn=<AddBackward0>) tensor(-41.3486, grad_fn=<AddBackward0>)\n",
      "tensor(5357.3550, grad_fn=<SumBackward0>) tensor(-202.8435, grad_fn=<AddBackward0>) tensor(-41.6326, grad_fn=<AddBackward0>)\n",
      "tensor(5164.1572, grad_fn=<SumBackward0>) tensor(-201.0513, grad_fn=<AddBackward0>) tensor(-47.4452, grad_fn=<AddBackward0>)\n",
      "tensor(8619.5020, grad_fn=<SumBackward0>) tensor(-197.3504, grad_fn=<AddBackward0>) tensor(-47.7768, grad_fn=<AddBackward0>)\n",
      "tensor(5850.9048, grad_fn=<SumBackward0>) tensor(-185.8437, grad_fn=<AddBackward0>) tensor(-33.7439, grad_fn=<AddBackward0>)\n",
      "tensor(6457.9448, grad_fn=<SumBackward0>) tensor(-186.0034, grad_fn=<AddBackward0>) tensor(-38.1327, grad_fn=<AddBackward0>)\n",
      "tensor(7282.6353, grad_fn=<SumBackward0>) tensor(-186.6530, grad_fn=<AddBackward0>) tensor(-43.1592, grad_fn=<AddBackward0>)\n",
      "tensor(7816.8896, grad_fn=<SumBackward0>) tensor(-180.6298, grad_fn=<AddBackward0>) tensor(-40.7454, grad_fn=<AddBackward0>)\n",
      "tensor(5860.3618, grad_fn=<SumBackward0>) tensor(-173.5677, grad_fn=<AddBackward0>) tensor(-36.8837, grad_fn=<AddBackward0>)\n",
      "tensor(4980.6489, grad_fn=<SumBackward0>) tensor(-163.6049, grad_fn=<AddBackward0>) tensor(-29.1414, grad_fn=<AddBackward0>)\n",
      "tensor(6151.9966, grad_fn=<SumBackward0>) tensor(-166.0119, grad_fn=<AddBackward0>) tensor(-33.2904, grad_fn=<AddBackward0>)\n",
      "tensor(5242.1421, grad_fn=<SumBackward0>) tensor(-167.4118, grad_fn=<AddBackward0>) tensor(-32.2477, grad_fn=<AddBackward0>)\n",
      "tensor(6673.9082, grad_fn=<SumBackward0>) tensor(-163.9735, grad_fn=<AddBackward0>) tensor(-41.3698, grad_fn=<AddBackward0>)\n",
      "tensor(6514.4561, grad_fn=<SumBackward0>) tensor(-163.3093, grad_fn=<AddBackward0>) tensor(-46.6142, grad_fn=<AddBackward0>)\n",
      "tensor(7022.8867, grad_fn=<SumBackward0>) tensor(-163.8106, grad_fn=<AddBackward0>) tensor(-37.7345, grad_fn=<AddBackward0>)\n",
      "tensor(5897.5996, grad_fn=<SumBackward0>) tensor(-163.0577, grad_fn=<AddBackward0>) tensor(-31.3596, grad_fn=<AddBackward0>)\n",
      "tensor(4388.4995, grad_fn=<SumBackward0>) tensor(-156.4791, grad_fn=<AddBackward0>) tensor(-36.0814, grad_fn=<AddBackward0>)\n",
      "tensor(4554.1343, grad_fn=<SumBackward0>) tensor(-155.7946, grad_fn=<AddBackward0>) tensor(-35.0778, grad_fn=<AddBackward0>)\n",
      "tensor(6501.3213, grad_fn=<SumBackward0>) tensor(-157.1733, grad_fn=<AddBackward0>) tensor(-34.8213, grad_fn=<AddBackward0>)\n",
      "tensor(5658.0659, grad_fn=<SumBackward0>) tensor(-148.9947, grad_fn=<AddBackward0>) tensor(-26.3077, grad_fn=<AddBackward0>)\n",
      "tensor(5261.9316, grad_fn=<SumBackward0>) tensor(-148.5499, grad_fn=<AddBackward0>) tensor(-35.6769, grad_fn=<AddBackward0>)\n",
      "tensor(3929.9292, grad_fn=<SumBackward0>) tensor(-143.9978, grad_fn=<AddBackward0>) tensor(-27.2417, grad_fn=<AddBackward0>)\n",
      "tensor(4667.0015, grad_fn=<SumBackward0>) tensor(-147.0916, grad_fn=<AddBackward0>) tensor(-40.2330, grad_fn=<AddBackward0>)\n",
      "tensor(2654.4968, grad_fn=<SumBackward0>) tensor(-140.2072, grad_fn=<AddBackward0>) tensor(-22.6499, grad_fn=<AddBackward0>)\n",
      "tensor(2706.2200, grad_fn=<SumBackward0>) tensor(-139.9841, grad_fn=<AddBackward0>) tensor(-39.3711, grad_fn=<AddBackward0>)\n",
      "tensor(3557.6033, grad_fn=<SumBackward0>) tensor(-134.6378, grad_fn=<AddBackward0>) tensor(-28.0099, grad_fn=<AddBackward0>)\n",
      "tensor(3544.4751, grad_fn=<SumBackward0>) tensor(-138.7756, grad_fn=<AddBackward0>) tensor(-36.7361, grad_fn=<AddBackward0>)\n",
      "tensor(5306.3584, grad_fn=<SumBackward0>) tensor(-133.5584, grad_fn=<AddBackward0>) tensor(-27.8711, grad_fn=<AddBackward0>)\n",
      "tensor(4080.5898, grad_fn=<SumBackward0>) tensor(-135.4007, grad_fn=<AddBackward0>) tensor(-30.7406, grad_fn=<AddBackward0>)\n",
      "tensor(4029.0037, grad_fn=<SumBackward0>) tensor(-130.2209, grad_fn=<AddBackward0>) tensor(-34.8907, grad_fn=<AddBackward0>)\n",
      "tensor(3866.4553, grad_fn=<SumBackward0>) tensor(-131.7781, grad_fn=<AddBackward0>) tensor(-38.9558, grad_fn=<AddBackward0>)\n",
      "tensor(3220.6970, grad_fn=<SumBackward0>) tensor(-131.0763, grad_fn=<AddBackward0>) tensor(-35.7141, grad_fn=<AddBackward0>)\n",
      "tensor(4627.4956, grad_fn=<SumBackward0>) tensor(-131.7558, grad_fn=<AddBackward0>) tensor(-23.9475, grad_fn=<AddBackward0>)\n",
      "tensor(3105.0071, grad_fn=<SumBackward0>) tensor(-129.9397, grad_fn=<AddBackward0>) tensor(-26.5207, grad_fn=<AddBackward0>)\n",
      "tensor(2962.8608, grad_fn=<SumBackward0>) tensor(-128.1712, grad_fn=<AddBackward0>) tensor(-30.3881, grad_fn=<AddBackward0>)\n",
      "tensor(4619.0352, grad_fn=<SumBackward0>) tensor(-130.8774, grad_fn=<AddBackward0>) tensor(-32.7085, grad_fn=<AddBackward0>)\n",
      "tensor(4519.3828, grad_fn=<SumBackward0>) tensor(-123.0242, grad_fn=<AddBackward0>) tensor(-21.9821, grad_fn=<AddBackward0>)\n",
      "tensor(3606.3833, grad_fn=<SumBackward0>) tensor(-122.7071, grad_fn=<AddBackward0>) tensor(-18.1669, grad_fn=<AddBackward0>)\n",
      "tensor(3359.7036, grad_fn=<SumBackward0>) tensor(-122.8101, grad_fn=<AddBackward0>) tensor(-28.4148, grad_fn=<AddBackward0>)\n",
      "tensor(2232.5454, grad_fn=<SumBackward0>) tensor(-122.9430, grad_fn=<AddBackward0>) tensor(-32.7164, grad_fn=<AddBackward0>)\n",
      "tensor(5217.6992, grad_fn=<SumBackward0>) tensor(-119.1805, grad_fn=<AddBackward0>) tensor(-30.6985, grad_fn=<AddBackward0>)\n",
      "tensor(3688.3784, grad_fn=<SumBackward0>) tensor(-120.0232, grad_fn=<AddBackward0>) tensor(-29.2782, grad_fn=<AddBackward0>)\n",
      "tensor(4964.9214, grad_fn=<SumBackward0>) tensor(-116.7193, grad_fn=<AddBackward0>) tensor(-25.2934, grad_fn=<AddBackward0>)\n",
      "tensor(2378.6033, grad_fn=<SumBackward0>) tensor(-114.2369, grad_fn=<AddBackward0>) tensor(-24.3104, grad_fn=<AddBackward0>)\n",
      "tensor(2229.3086, grad_fn=<SumBackward0>) tensor(-117.5992, grad_fn=<AddBackward0>) tensor(-26.9149, grad_fn=<AddBackward0>)\n",
      "tensor(4186.8081, grad_fn=<SumBackward0>) tensor(-109.1981, grad_fn=<AddBackward0>) tensor(-18.8976, grad_fn=<AddBackward0>)\n",
      "tensor(3057.1265, grad_fn=<SumBackward0>) tensor(-110.5131, grad_fn=<AddBackward0>) tensor(-26.1180, grad_fn=<AddBackward0>)\n",
      "tensor(3775.3975, grad_fn=<SumBackward0>) tensor(-106.2381, grad_fn=<AddBackward0>) tensor(-19.9119, grad_fn=<AddBackward0>)\n",
      "tensor(2752.2974, grad_fn=<SumBackward0>) tensor(-106.2050, grad_fn=<AddBackward0>) tensor(-21.2393, grad_fn=<AddBackward0>)\n",
      "tensor(3474.5640, grad_fn=<SumBackward0>) tensor(-109.1123, grad_fn=<AddBackward0>) tensor(-27.7696, grad_fn=<AddBackward0>)\n",
      "tensor(3246.5103, grad_fn=<SumBackward0>) tensor(-103.1480, grad_fn=<AddBackward0>) tensor(-25.0185, grad_fn=<AddBackward0>)\n",
      "tensor(3935.6357, grad_fn=<SumBackward0>) tensor(-103.9427, grad_fn=<AddBackward0>) tensor(-18.3848, grad_fn=<AddBackward0>)\n",
      "tensor(3938.1489, grad_fn=<SumBackward0>) tensor(-102.7866, grad_fn=<AddBackward0>) tensor(-25.9105, grad_fn=<AddBackward0>)\n",
      "tensor(1877.1490, grad_fn=<SumBackward0>) tensor(-97.8100, grad_fn=<AddBackward0>) tensor(-21.7695, grad_fn=<AddBackward0>)\n",
      "tensor(3673.5317, grad_fn=<SumBackward0>) tensor(-96.8191, grad_fn=<AddBackward0>) tensor(-22.2512, grad_fn=<AddBackward0>)\n",
      "tensor(3723.3057, grad_fn=<SumBackward0>) tensor(-98.0401, grad_fn=<AddBackward0>) tensor(-18.8344, grad_fn=<AddBackward0>)\n",
      "tensor(3490.5698, grad_fn=<SumBackward0>) tensor(-97.7743, grad_fn=<AddBackward0>) tensor(-21.7813, grad_fn=<AddBackward0>)\n",
      "tensor(2751.6577, grad_fn=<SumBackward0>) tensor(-94.7262, grad_fn=<AddBackward0>) tensor(-20.4609, grad_fn=<AddBackward0>)\n",
      "tensor(1683.1584, grad_fn=<SumBackward0>) tensor(-96.6867, grad_fn=<AddBackward0>) tensor(-14.9543, grad_fn=<AddBackward0>)\n",
      "tensor(3528.5571, grad_fn=<SumBackward0>) tensor(-96.6897, grad_fn=<AddBackward0>) tensor(-21.4077, grad_fn=<AddBackward0>)\n",
      "tensor(3498.6035, grad_fn=<SumBackward0>) tensor(-91.9685, grad_fn=<AddBackward0>) tensor(-26.2773, grad_fn=<AddBackward0>)\n",
      "tensor(3054.7192, grad_fn=<SumBackward0>) tensor(-90.8538, grad_fn=<AddBackward0>) tensor(-20.0995, grad_fn=<AddBackward0>)\n",
      "tensor(3156.1248, grad_fn=<SumBackward0>) tensor(-94.5675, grad_fn=<AddBackward0>) tensor(-23.7162, grad_fn=<AddBackward0>)\n",
      "tensor(2064.6104, grad_fn=<SumBackward0>) tensor(-89.8614, grad_fn=<AddBackward0>) tensor(-20.5415, grad_fn=<AddBackward0>)\n",
      "tensor(3997.5486, grad_fn=<SumBackward0>) tensor(-84.9415, grad_fn=<AddBackward0>) tensor(-16.6116, grad_fn=<AddBackward0>)\n",
      "tensor(2709.0034, grad_fn=<SumBackward0>) tensor(-89.0463, grad_fn=<AddBackward0>) tensor(-19.0581, grad_fn=<AddBackward0>)\n",
      "tensor(2195.5142, grad_fn=<SumBackward0>) tensor(-87.2933, grad_fn=<AddBackward0>) tensor(-20.9255, grad_fn=<AddBackward0>)\n",
      "tensor(3797.3003, grad_fn=<SumBackward0>) tensor(-85.1310, grad_fn=<AddBackward0>) tensor(-22.7165, grad_fn=<AddBackward0>)\n",
      "tensor(2207.4011, grad_fn=<SumBackward0>) tensor(-82.9571, grad_fn=<AddBackward0>) tensor(-15.1134, grad_fn=<AddBackward0>)\n",
      "tensor(5550.0918, grad_fn=<SumBackward0>) tensor(-80.4388, grad_fn=<AddBackward0>) tensor(-21.4862, grad_fn=<AddBackward0>)\n",
      "tensor(3961.5381, grad_fn=<SumBackward0>) tensor(-79.6149, grad_fn=<AddBackward0>) tensor(-20.9447, grad_fn=<AddBackward0>)\n",
      "tensor(1787.3654, grad_fn=<SumBackward0>) tensor(-80.6552, grad_fn=<AddBackward0>) tensor(-19.0046, grad_fn=<AddBackward0>)\n",
      "tensor(2532.7866, grad_fn=<SumBackward0>) tensor(-81.6782, grad_fn=<AddBackward0>) tensor(-18.2657, grad_fn=<AddBackward0>)\n",
      "tensor(1575.2532, grad_fn=<SumBackward0>) tensor(-77.5638, grad_fn=<AddBackward0>) tensor(-20.1903, grad_fn=<AddBackward0>)\n",
      "tensor(3475.6660, grad_fn=<SumBackward0>) tensor(-78.6866, grad_fn=<AddBackward0>) tensor(-22.5015, grad_fn=<AddBackward0>)\n"
     ]
    }
   ],
   "source": [
    "config_output = open(\"config.dat\", \"w\")\n",
    "for _ in range(100):\n",
    "    for idx, pos in enumerate(simulation.pos):\n",
    "        if idx <= num_monomers:\n",
    "            print(f\"{pos[0]}\\t{pos[1]}\\t{pos[2]}\\t1\", file=config_output)\n",
    "        else:\n",
    "            print(f\"{pos[0]}\\t{pos[1]}\\t{pos[2]}\\t0\", file=config_output)\n",
    "    print(file=config_output)\n",
    "    print(file=config_output, flush=True) \n",
    "    if explicit_solvent:\n",
    "        print(simulation.sys.bonded_force_components[0].calc_energy(simulation.pos), simulation.sys.nonbonded_force_components[0].calc_energy(simulation.pos, simulation.neighborlist), simulation.sys.nonbonded_force_components[1].calc_energy(simulation.pos, simulation.neighborlist))\n",
    "    else:\n",
    "        print(simulation.sys.bonded_force_components[0].calc_energy(simulation.pos), simulation.sys.nonbonded_force_components[0].calc_energy(simulation.pos, simulation.neighborlist))        \n",
    "    simulation.step(100)\n",
    "    "
   ]
  },
  {
   "cell_type": "code",
   "execution_count": null,
   "metadata": {},
   "outputs": [],
   "source": []
  }
 ],
 "metadata": {
  "kernelspec": {
   "display_name": "dimos_dev",
   "language": "python",
   "name": "python3"
  },
  "language_info": {
   "codemirror_mode": {
    "name": "ipython",
    "version": 3
   },
   "file_extension": ".py",
   "mimetype": "text/x-python",
   "name": "python",
   "nbconvert_exporter": "python",
   "pygments_lexer": "ipython3",
   "version": "3.10.15"
  }
 },
 "nbformat": 4,
 "nbformat_minor": 2
}
